{
 "cells": [
  {
   "cell_type": "code",
   "execution_count": 1,
   "id": "7fad04ad-e3b8-40e5-a5c9-841ee8c8f830",
   "metadata": {},
   "outputs": [],
   "source": [
    "import pandas as pd\n",
    "import numpy as np\n"
   ]
  },
  {
   "cell_type": "code",
   "execution_count": 2,
   "id": "75a56f47-532c-47e3-b1d1-29263d25d5e9",
   "metadata": {},
   "outputs": [],
   "source": [
    "df = pd.read_csv('file:///Users/dbda/Desktop/project/price_data.csv')"
   ]
  },
  {
   "cell_type": "code",
   "execution_count": 3,
   "id": "850ee8fb-db57-4383-ae4d-588369402b24",
   "metadata": {},
   "outputs": [
    {
     "data": {
      "text/html": [
       "<div>\n",
       "<style scoped>\n",
       "    .dataframe tbody tr th:only-of-type {\n",
       "        vertical-align: middle;\n",
       "    }\n",
       "\n",
       "    .dataframe tbody tr th {\n",
       "        vertical-align: top;\n",
       "    }\n",
       "\n",
       "    .dataframe thead th {\n",
       "        text-align: right;\n",
       "    }\n",
       "</style>\n",
       "<table border=\"1\" class=\"dataframe\">\n",
       "  <thead>\n",
       "    <tr style=\"text-align: right;\">\n",
       "      <th></th>\n",
       "      <th>baseFare</th>\n",
       "      <th>reservationCharge</th>\n",
       "      <th>superfastCharge</th>\n",
       "      <th>fuelAmount</th>\n",
       "      <th>totalConcession</th>\n",
       "      <th>tatkalFare</th>\n",
       "      <th>serviceTax</th>\n",
       "      <th>otherCharge</th>\n",
       "      <th>cateringCharge</th>\n",
       "      <th>dynamicFare</th>\n",
       "      <th>totalFare</th>\n",
       "      <th>availability</th>\n",
       "      <th>trainNumber</th>\n",
       "      <th>timeStamp</th>\n",
       "      <th>fromStnCode</th>\n",
       "      <th>toStnCode</th>\n",
       "      <th>classCode</th>\n",
       "      <th>distance</th>\n",
       "      <th>duration</th>\n",
       "    </tr>\n",
       "  </thead>\n",
       "  <tbody>\n",
       "    <tr>\n",
       "      <th>0</th>\n",
       "      <td>1059</td>\n",
       "      <td>60</td>\n",
       "      <td>0</td>\n",
       "      <td>0.0</td>\n",
       "      <td>0</td>\n",
       "      <td>0</td>\n",
       "      <td>56.0</td>\n",
       "      <td>0</td>\n",
       "      <td>0</td>\n",
       "      <td>0</td>\n",
       "      <td>1175</td>\n",
       "      <td>[{'date': '2-12-2023', 'status': 'AVAILABLE-00...</td>\n",
       "      <td>11464</td>\n",
       "      <td>2023-10-03 22:13:07.781307</td>\n",
       "      <td>JBP</td>\n",
       "      <td>SRID</td>\n",
       "      <td>1A</td>\n",
       "      <td>54</td>\n",
       "      <td>33.0</td>\n",
       "    </tr>\n",
       "    <tr>\n",
       "      <th>1</th>\n",
       "      <td>626</td>\n",
       "      <td>50</td>\n",
       "      <td>0</td>\n",
       "      <td>0.0</td>\n",
       "      <td>0</td>\n",
       "      <td>0</td>\n",
       "      <td>34.0</td>\n",
       "      <td>0</td>\n",
       "      <td>0</td>\n",
       "      <td>0</td>\n",
       "      <td>710</td>\n",
       "      <td>[{'date': '2-12-2023', 'status': 'AVAILABLE-00...</td>\n",
       "      <td>11464</td>\n",
       "      <td>2023-10-03 22:13:07.781307</td>\n",
       "      <td>JBP</td>\n",
       "      <td>SRID</td>\n",
       "      <td>2A</td>\n",
       "      <td>54</td>\n",
       "      <td>33.0</td>\n",
       "    </tr>\n",
       "    <tr>\n",
       "      <th>2</th>\n",
       "      <td>441</td>\n",
       "      <td>40</td>\n",
       "      <td>0</td>\n",
       "      <td>0.0</td>\n",
       "      <td>0</td>\n",
       "      <td>0</td>\n",
       "      <td>24.0</td>\n",
       "      <td>0</td>\n",
       "      <td>0</td>\n",
       "      <td>0</td>\n",
       "      <td>505</td>\n",
       "      <td>[{'date': '2-12-2023', 'status': 'AVAILABLE-01...</td>\n",
       "      <td>11464</td>\n",
       "      <td>2023-10-03 22:13:07.781307</td>\n",
       "      <td>JBP</td>\n",
       "      <td>SRID</td>\n",
       "      <td>3A</td>\n",
       "      <td>54</td>\n",
       "      <td>33.0</td>\n",
       "    </tr>\n",
       "    <tr>\n",
       "      <th>3</th>\n",
       "      <td>125</td>\n",
       "      <td>20</td>\n",
       "      <td>0</td>\n",
       "      <td>0.0</td>\n",
       "      <td>0</td>\n",
       "      <td>0</td>\n",
       "      <td>0.0</td>\n",
       "      <td>0</td>\n",
       "      <td>0</td>\n",
       "      <td>0</td>\n",
       "      <td>145</td>\n",
       "      <td>[{'date': '2-12-2023', 'status': 'AVAILABLE-00...</td>\n",
       "      <td>11464</td>\n",
       "      <td>2023-10-03 22:13:07.781307</td>\n",
       "      <td>JBP</td>\n",
       "      <td>SRID</td>\n",
       "      <td>SL</td>\n",
       "      <td>54</td>\n",
       "      <td>33.0</td>\n",
       "    </tr>\n",
       "    <tr>\n",
       "      <th>4</th>\n",
       "      <td>1059</td>\n",
       "      <td>60</td>\n",
       "      <td>0</td>\n",
       "      <td>0.0</td>\n",
       "      <td>0</td>\n",
       "      <td>0</td>\n",
       "      <td>56.0</td>\n",
       "      <td>0</td>\n",
       "      <td>0</td>\n",
       "      <td>0</td>\n",
       "      <td>1175</td>\n",
       "      <td>[{'date': '2-12-2023', 'status': 'AVAILABLE-00...</td>\n",
       "      <td>11464</td>\n",
       "      <td>2023-10-03 22:13:07.781307</td>\n",
       "      <td>JBP</td>\n",
       "      <td>KKB</td>\n",
       "      <td>1A</td>\n",
       "      <td>69</td>\n",
       "      <td>49.0</td>\n",
       "    </tr>\n",
       "  </tbody>\n",
       "</table>\n",
       "</div>"
      ],
      "text/plain": [
       "   baseFare  reservationCharge  superfastCharge  fuelAmount  totalConcession  \\\n",
       "0      1059                 60                0         0.0                0   \n",
       "1       626                 50                0         0.0                0   \n",
       "2       441                 40                0         0.0                0   \n",
       "3       125                 20                0         0.0                0   \n",
       "4      1059                 60                0         0.0                0   \n",
       "\n",
       "   tatkalFare  serviceTax  otherCharge  cateringCharge  dynamicFare  \\\n",
       "0           0        56.0            0               0            0   \n",
       "1           0        34.0            0               0            0   \n",
       "2           0        24.0            0               0            0   \n",
       "3           0         0.0            0               0            0   \n",
       "4           0        56.0            0               0            0   \n",
       "\n",
       "   totalFare                                       availability  trainNumber  \\\n",
       "0       1175  [{'date': '2-12-2023', 'status': 'AVAILABLE-00...        11464   \n",
       "1        710  [{'date': '2-12-2023', 'status': 'AVAILABLE-00...        11464   \n",
       "2        505  [{'date': '2-12-2023', 'status': 'AVAILABLE-01...        11464   \n",
       "3        145  [{'date': '2-12-2023', 'status': 'AVAILABLE-00...        11464   \n",
       "4       1175  [{'date': '2-12-2023', 'status': 'AVAILABLE-00...        11464   \n",
       "\n",
       "                    timeStamp fromStnCode toStnCode classCode  distance  \\\n",
       "0  2023-10-03 22:13:07.781307         JBP      SRID        1A        54   \n",
       "1  2023-10-03 22:13:07.781307         JBP      SRID        2A        54   \n",
       "2  2023-10-03 22:13:07.781307         JBP      SRID        3A        54   \n",
       "3  2023-10-03 22:13:07.781307         JBP      SRID        SL        54   \n",
       "4  2023-10-03 22:13:07.781307         JBP       KKB        1A        69   \n",
       "\n",
       "   duration  \n",
       "0      33.0  \n",
       "1      33.0  \n",
       "2      33.0  \n",
       "3      33.0  \n",
       "4      49.0  "
      ]
     },
     "execution_count": 3,
     "metadata": {},
     "output_type": "execute_result"
    }
   ],
   "source": [
    "df.head()\n"
   ]
  },
  {
   "cell_type": "code",
   "execution_count": 4,
   "id": "f855d251-46d0-4fb6-ac01-88a0edda8cd9",
   "metadata": {},
   "outputs": [
    {
     "name": "stdout",
     "output_type": "stream",
     "text": [
      "<class 'pandas.core.frame.DataFrame'>\n",
      "RangeIndex: 326643 entries, 0 to 326642\n",
      "Data columns (total 19 columns):\n",
      " #   Column             Non-Null Count   Dtype  \n",
      "---  ------             --------------   -----  \n",
      " 0   baseFare           326643 non-null  int64  \n",
      " 1   reservationCharge  326643 non-null  int64  \n",
      " 2   superfastCharge    326643 non-null  int64  \n",
      " 3   fuelAmount         326643 non-null  float64\n",
      " 4   totalConcession    326643 non-null  int64  \n",
      " 5   tatkalFare         326643 non-null  int64  \n",
      " 6   serviceTax         326643 non-null  float64\n",
      " 7   otherCharge        326643 non-null  int64  \n",
      " 8   cateringCharge     326643 non-null  int64  \n",
      " 9   dynamicFare        326643 non-null  int64  \n",
      " 10  totalFare          326643 non-null  int64  \n",
      " 11  availability       326643 non-null  object \n",
      " 12  trainNumber        326643 non-null  int64  \n",
      " 13  timeStamp          326643 non-null  object \n",
      " 14  fromStnCode        326643 non-null  object \n",
      " 15  toStnCode          326643 non-null  object \n",
      " 16  classCode          326643 non-null  object \n",
      " 17  distance           326643 non-null  int64  \n",
      " 18  duration           326643 non-null  float64\n",
      "dtypes: float64(3), int64(11), object(5)\n",
      "memory usage: 47.3+ MB\n"
     ]
    }
   ],
   "source": [
    "df.info()"
   ]
  },
  {
   "cell_type": "code",
   "execution_count": 5,
   "id": "cb713804-92f4-4782-8ea3-139aa1261d24",
   "metadata": {},
   "outputs": [
    {
     "data": {
      "text/html": [
       "<div>\n",
       "<style scoped>\n",
       "    .dataframe tbody tr th:only-of-type {\n",
       "        vertical-align: middle;\n",
       "    }\n",
       "\n",
       "    .dataframe tbody tr th {\n",
       "        vertical-align: top;\n",
       "    }\n",
       "\n",
       "    .dataframe thead th {\n",
       "        text-align: right;\n",
       "    }\n",
       "</style>\n",
       "<table border=\"1\" class=\"dataframe\">\n",
       "  <thead>\n",
       "    <tr style=\"text-align: right;\">\n",
       "      <th></th>\n",
       "      <th>baseFare</th>\n",
       "      <th>reservationCharge</th>\n",
       "      <th>superfastCharge</th>\n",
       "      <th>fuelAmount</th>\n",
       "      <th>totalConcession</th>\n",
       "      <th>tatkalFare</th>\n",
       "      <th>serviceTax</th>\n",
       "      <th>otherCharge</th>\n",
       "      <th>cateringCharge</th>\n",
       "      <th>dynamicFare</th>\n",
       "      <th>totalFare</th>\n",
       "      <th>trainNumber</th>\n",
       "      <th>distance</th>\n",
       "      <th>duration</th>\n",
       "    </tr>\n",
       "  </thead>\n",
       "  <tbody>\n",
       "    <tr>\n",
       "      <th>count</th>\n",
       "      <td>326643.000000</td>\n",
       "      <td>326643.000000</td>\n",
       "      <td>326643.000000</td>\n",
       "      <td>326643.0</td>\n",
       "      <td>326643.0</td>\n",
       "      <td>326643.0</td>\n",
       "      <td>326643.000000</td>\n",
       "      <td>326643.000000</td>\n",
       "      <td>326643.000000</td>\n",
       "      <td>326643.000000</td>\n",
       "      <td>326643.000000</td>\n",
       "      <td>326643.000000</td>\n",
       "      <td>326643.000000</td>\n",
       "      <td>326643.000000</td>\n",
       "    </tr>\n",
       "    <tr>\n",
       "      <th>mean</th>\n",
       "      <td>890.075122</td>\n",
       "      <td>38.157805</td>\n",
       "      <td>20.058091</td>\n",
       "      <td>0.0</td>\n",
       "      <td>0.0</td>\n",
       "      <td>0.0</td>\n",
       "      <td>42.761510</td>\n",
       "      <td>0.053208</td>\n",
       "      <td>4.990601</td>\n",
       "      <td>4.224771</td>\n",
       "      <td>1000.355281</td>\n",
       "      <td>14597.751870</td>\n",
       "      <td>587.745153</td>\n",
       "      <td>644.124564</td>\n",
       "    </tr>\n",
       "    <tr>\n",
       "      <th>std</th>\n",
       "      <td>793.765711</td>\n",
       "      <td>14.324952</td>\n",
       "      <td>24.646072</td>\n",
       "      <td>0.0</td>\n",
       "      <td>0.0</td>\n",
       "      <td>0.0</td>\n",
       "      <td>45.080793</td>\n",
       "      <td>1.018403</td>\n",
       "      <td>42.586032</td>\n",
       "      <td>49.050982</td>\n",
       "      <td>872.003147</td>\n",
       "      <td>4734.686291</td>\n",
       "      <td>548.858324</td>\n",
       "      <td>581.665800</td>\n",
       "    </tr>\n",
       "    <tr>\n",
       "      <th>min</th>\n",
       "      <td>30.000000</td>\n",
       "      <td>15.000000</td>\n",
       "      <td>0.000000</td>\n",
       "      <td>0.0</td>\n",
       "      <td>0.0</td>\n",
       "      <td>0.0</td>\n",
       "      <td>0.000000</td>\n",
       "      <td>0.000000</td>\n",
       "      <td>0.000000</td>\n",
       "      <td>0.000000</td>\n",
       "      <td>45.000000</td>\n",
       "      <td>1027.000000</td>\n",
       "      <td>1.000000</td>\n",
       "      <td>-1423.000000</td>\n",
       "    </tr>\n",
       "    <tr>\n",
       "      <th>25%</th>\n",
       "      <td>362.000000</td>\n",
       "      <td>20.000000</td>\n",
       "      <td>0.000000</td>\n",
       "      <td>0.0</td>\n",
       "      <td>0.0</td>\n",
       "      <td>0.0</td>\n",
       "      <td>0.000000</td>\n",
       "      <td>0.000000</td>\n",
       "      <td>0.000000</td>\n",
       "      <td>0.000000</td>\n",
       "      <td>395.000000</td>\n",
       "      <td>12316.000000</td>\n",
       "      <td>164.000000</td>\n",
       "      <td>193.000000</td>\n",
       "    </tr>\n",
       "    <tr>\n",
       "      <th>50%</th>\n",
       "      <td>626.000000</td>\n",
       "      <td>40.000000</td>\n",
       "      <td>0.000000</td>\n",
       "      <td>0.0</td>\n",
       "      <td>0.0</td>\n",
       "      <td>0.0</td>\n",
       "      <td>34.000000</td>\n",
       "      <td>0.000000</td>\n",
       "      <td>0.000000</td>\n",
       "      <td>0.000000</td>\n",
       "      <td>710.000000</td>\n",
       "      <td>13020.000000</td>\n",
       "      <td>404.000000</td>\n",
       "      <td>462.000000</td>\n",
       "    </tr>\n",
       "    <tr>\n",
       "      <th>75%</th>\n",
       "      <td>1222.000000</td>\n",
       "      <td>50.000000</td>\n",
       "      <td>45.000000</td>\n",
       "      <td>0.0</td>\n",
       "      <td>0.0</td>\n",
       "      <td>0.0</td>\n",
       "      <td>65.000000</td>\n",
       "      <td>0.000000</td>\n",
       "      <td>0.000000</td>\n",
       "      <td>0.000000</td>\n",
       "      <td>1370.000000</td>\n",
       "      <td>18477.000000</td>\n",
       "      <td>861.000000</td>\n",
       "      <td>936.000000</td>\n",
       "    </tr>\n",
       "    <tr>\n",
       "      <th>max</th>\n",
       "      <td>6541.000000</td>\n",
       "      <td>60.000000</td>\n",
       "      <td>75.000000</td>\n",
       "      <td>0.0</td>\n",
       "      <td>0.0</td>\n",
       "      <td>0.0</td>\n",
       "      <td>334.000000</td>\n",
       "      <td>25.000000</td>\n",
       "      <td>1365.000000</td>\n",
       "      <td>1518.000000</td>\n",
       "      <td>8375.000000</td>\n",
       "      <td>22645.000000</td>\n",
       "      <td>3149.000000</td>\n",
       "      <td>3225.000000</td>\n",
       "    </tr>\n",
       "  </tbody>\n",
       "</table>\n",
       "</div>"
      ],
      "text/plain": [
       "            baseFare  reservationCharge  superfastCharge  fuelAmount  \\\n",
       "count  326643.000000      326643.000000    326643.000000    326643.0   \n",
       "mean      890.075122          38.157805        20.058091         0.0   \n",
       "std       793.765711          14.324952        24.646072         0.0   \n",
       "min        30.000000          15.000000         0.000000         0.0   \n",
       "25%       362.000000          20.000000         0.000000         0.0   \n",
       "50%       626.000000          40.000000         0.000000         0.0   \n",
       "75%      1222.000000          50.000000        45.000000         0.0   \n",
       "max      6541.000000          60.000000        75.000000         0.0   \n",
       "\n",
       "       totalConcession  tatkalFare     serviceTax    otherCharge  \\\n",
       "count         326643.0    326643.0  326643.000000  326643.000000   \n",
       "mean               0.0         0.0      42.761510       0.053208   \n",
       "std                0.0         0.0      45.080793       1.018403   \n",
       "min                0.0         0.0       0.000000       0.000000   \n",
       "25%                0.0         0.0       0.000000       0.000000   \n",
       "50%                0.0         0.0      34.000000       0.000000   \n",
       "75%                0.0         0.0      65.000000       0.000000   \n",
       "max                0.0         0.0     334.000000      25.000000   \n",
       "\n",
       "       cateringCharge    dynamicFare      totalFare    trainNumber  \\\n",
       "count   326643.000000  326643.000000  326643.000000  326643.000000   \n",
       "mean         4.990601       4.224771    1000.355281   14597.751870   \n",
       "std         42.586032      49.050982     872.003147    4734.686291   \n",
       "min          0.000000       0.000000      45.000000    1027.000000   \n",
       "25%          0.000000       0.000000     395.000000   12316.000000   \n",
       "50%          0.000000       0.000000     710.000000   13020.000000   \n",
       "75%          0.000000       0.000000    1370.000000   18477.000000   \n",
       "max       1365.000000    1518.000000    8375.000000   22645.000000   \n",
       "\n",
       "            distance       duration  \n",
       "count  326643.000000  326643.000000  \n",
       "mean      587.745153     644.124564  \n",
       "std       548.858324     581.665800  \n",
       "min         1.000000   -1423.000000  \n",
       "25%       164.000000     193.000000  \n",
       "50%       404.000000     462.000000  \n",
       "75%       861.000000     936.000000  \n",
       "max      3149.000000    3225.000000  "
      ]
     },
     "execution_count": 5,
     "metadata": {},
     "output_type": "execute_result"
    }
   ],
   "source": [
    "df.describe()"
   ]
  },
  {
   "cell_type": "code",
   "execution_count": 6,
   "id": "8b2747d2-d588-42a2-aaa7-6049f8b74085",
   "metadata": {},
   "outputs": [
    {
     "data": {
      "text/plain": [
       "(326643, 19)"
      ]
     },
     "execution_count": 6,
     "metadata": {},
     "output_type": "execute_result"
    }
   ],
   "source": [
    "df.shape"
   ]
  },
  {
   "cell_type": "code",
   "execution_count": 7,
   "id": "40880361-93d3-4109-aa53-336819aa9a8d",
   "metadata": {},
   "outputs": [
    {
     "data": {
      "text/plain": [
       "baseFare             0\n",
       "reservationCharge    0\n",
       "superfastCharge      0\n",
       "fuelAmount           0\n",
       "totalConcession      0\n",
       "tatkalFare           0\n",
       "serviceTax           0\n",
       "otherCharge          0\n",
       "cateringCharge       0\n",
       "dynamicFare          0\n",
       "totalFare            0\n",
       "availability         0\n",
       "trainNumber          0\n",
       "timeStamp            0\n",
       "fromStnCode          0\n",
       "toStnCode            0\n",
       "classCode            0\n",
       "distance             0\n",
       "duration             0\n",
       "dtype: int64"
      ]
     },
     "execution_count": 7,
     "metadata": {},
     "output_type": "execute_result"
    }
   ],
   "source": [
    "df.isnull().sum()"
   ]
  },
  {
   "cell_type": "code",
   "execution_count": 8,
   "id": "5004f3f7-812a-4714-a0f2-a5991e4b74bf",
   "metadata": {},
   "outputs": [
    {
     "name": "stdout",
     "output_type": "stream",
     "text": [
      "baseFare : 1840\n",
      "reservationCharge : 5\n",
      "superfastCharge : 5\n",
      "fuelAmount : 1\n",
      "totalConcession : 1\n",
      "tatkalFare : 1\n",
      "serviceTax : 276\n",
      "otherCharge : 3\n",
      "cateringCharge : 69\n",
      "dynamicFare : 475\n",
      "totalFare : 976\n",
      "availability : 27639\n",
      "trainNumber : 533\n",
      "timeStamp : 579\n",
      "fromStnCode : 1480\n",
      "toStnCode : 1594\n",
      "classCode : 6\n",
      "distance : 2759\n",
      "duration : 2912\n"
     ]
    }
   ],
   "source": [
    "for columns in df:\n",
    "    print(columns,\":\", df[columns].nunique())"
   ]
  },
  {
   "cell_type": "code",
   "execution_count": 9,
   "id": "be2a4a58-00b0-4168-a01a-1ef5b0d09393",
   "metadata": {},
   "outputs": [],
   "source": [
    "# their three columns which has 1 value so they are not get any impact on the data \n",
    "df2=df.drop(['fuelAmount','totalConcession','tatkalFare'],axis=1)"
   ]
  },
  {
   "cell_type": "code",
   "execution_count": 11,
   "id": "b233be93-3a47-4e46-a086-4fed9f731bb7",
   "metadata": {},
   "outputs": [
    {
     "name": "stdout",
     "output_type": "stream",
     "text": [
      "<class 'pandas.core.frame.DataFrame'>\n",
      "RangeIndex: 326643 entries, 0 to 326642\n",
      "Data columns (total 16 columns):\n",
      " #   Column             Non-Null Count   Dtype  \n",
      "---  ------             --------------   -----  \n",
      " 0   baseFare           326643 non-null  int64  \n",
      " 1   reservationCharge  326643 non-null  int64  \n",
      " 2   superfastCharge    326643 non-null  int64  \n",
      " 3   serviceTax         326643 non-null  float64\n",
      " 4   otherCharge        326643 non-null  int64  \n",
      " 5   cateringCharge     326643 non-null  int64  \n",
      " 6   dynamicFare        326643 non-null  int64  \n",
      " 7   totalFare          326643 non-null  int64  \n",
      " 8   availability       326643 non-null  object \n",
      " 9   trainNumber        326643 non-null  int64  \n",
      " 10  timeStamp          326643 non-null  object \n",
      " 11  fromStnCode        326643 non-null  object \n",
      " 12  toStnCode          326643 non-null  object \n",
      " 13  classCode          326643 non-null  object \n",
      " 14  distance           326643 non-null  int64  \n",
      " 15  duration           326643 non-null  float64\n",
      "dtypes: float64(2), int64(9), object(5)\n",
      "memory usage: 39.9+ MB\n"
     ]
    }
   ],
   "source": [
    "df2.info()"
   ]
  },
  {
   "cell_type": "code",
   "execution_count": 10,
   "id": "3735eadd-cb15-45a5-b384-3c1b349ca049",
   "metadata": {},
   "outputs": [
    {
     "data": {
      "text/plain": [
       "(326643, 16)"
      ]
     },
     "execution_count": 10,
     "metadata": {},
     "output_type": "execute_result"
    }
   ],
   "source": [
    "df2.shape\n"
   ]
  },
  {
   "cell_type": "code",
   "execution_count": 46,
   "id": "a050b5b1-67be-4a94-a7b3-7c5d1cb90824",
   "metadata": {},
   "outputs": [
    {
     "data": {
      "text/plain": [
       "baseFare                  int64\n",
       "reservationCharge         int64\n",
       "superfastCharge           int64\n",
       "serviceTax              float64\n",
       "otherCharge               int64\n",
       "cateringCharge            int64\n",
       "dynamicFare               int64\n",
       "totalFare                 int64\n",
       "availability             object\n",
       "trainNumber               int64\n",
       "timeStamp                object\n",
       "fromStnCode              object\n",
       "toStnCode                object\n",
       "classCode                object\n",
       "distance                  int64\n",
       "duration                float64\n",
       "if_offering_catering       bool\n",
       "if_dynamic_fare            bool\n",
       "dtype: object"
      ]
     },
     "execution_count": 46,
     "metadata": {},
     "output_type": "execute_result"
    }
   ],
   "source": [
    "df2.dtypes"
   ]
  },
  {
   "cell_type": "code",
   "execution_count": 12,
   "id": "ea0a8349-e0f5-4247-aa02-225fd7bde667",
   "metadata": {},
   "outputs": [
    {
     "data": {
      "text/html": [
       "<div>\n",
       "<style scoped>\n",
       "    .dataframe tbody tr th:only-of-type {\n",
       "        vertical-align: middle;\n",
       "    }\n",
       "\n",
       "    .dataframe tbody tr th {\n",
       "        vertical-align: top;\n",
       "    }\n",
       "\n",
       "    .dataframe thead th {\n",
       "        text-align: right;\n",
       "    }\n",
       "</style>\n",
       "<table border=\"1\" class=\"dataframe\">\n",
       "  <thead>\n",
       "    <tr style=\"text-align: right;\">\n",
       "      <th></th>\n",
       "      <th>baseFare</th>\n",
       "      <th>reservationCharge</th>\n",
       "      <th>superfastCharge</th>\n",
       "      <th>serviceTax</th>\n",
       "      <th>otherCharge</th>\n",
       "      <th>cateringCharge</th>\n",
       "      <th>dynamicFare</th>\n",
       "      <th>totalFare</th>\n",
       "      <th>availability</th>\n",
       "      <th>trainNumber</th>\n",
       "      <th>timeStamp</th>\n",
       "      <th>fromStnCode</th>\n",
       "      <th>toStnCode</th>\n",
       "      <th>classCode</th>\n",
       "      <th>distance</th>\n",
       "      <th>duration</th>\n",
       "    </tr>\n",
       "  </thead>\n",
       "  <tbody>\n",
       "    <tr>\n",
       "      <th>0</th>\n",
       "      <td>1059</td>\n",
       "      <td>60</td>\n",
       "      <td>0</td>\n",
       "      <td>56.0</td>\n",
       "      <td>0</td>\n",
       "      <td>0</td>\n",
       "      <td>0</td>\n",
       "      <td>1175</td>\n",
       "      <td>[{'date': '2-12-2023', 'status': 'AVAILABLE-00...</td>\n",
       "      <td>11464</td>\n",
       "      <td>2023-10-03 22:13:07.781307</td>\n",
       "      <td>JBP</td>\n",
       "      <td>SRID</td>\n",
       "      <td>1A</td>\n",
       "      <td>54</td>\n",
       "      <td>33.0</td>\n",
       "    </tr>\n",
       "    <tr>\n",
       "      <th>1</th>\n",
       "      <td>626</td>\n",
       "      <td>50</td>\n",
       "      <td>0</td>\n",
       "      <td>34.0</td>\n",
       "      <td>0</td>\n",
       "      <td>0</td>\n",
       "      <td>0</td>\n",
       "      <td>710</td>\n",
       "      <td>[{'date': '2-12-2023', 'status': 'AVAILABLE-00...</td>\n",
       "      <td>11464</td>\n",
       "      <td>2023-10-03 22:13:07.781307</td>\n",
       "      <td>JBP</td>\n",
       "      <td>SRID</td>\n",
       "      <td>2A</td>\n",
       "      <td>54</td>\n",
       "      <td>33.0</td>\n",
       "    </tr>\n",
       "    <tr>\n",
       "      <th>2</th>\n",
       "      <td>441</td>\n",
       "      <td>40</td>\n",
       "      <td>0</td>\n",
       "      <td>24.0</td>\n",
       "      <td>0</td>\n",
       "      <td>0</td>\n",
       "      <td>0</td>\n",
       "      <td>505</td>\n",
       "      <td>[{'date': '2-12-2023', 'status': 'AVAILABLE-01...</td>\n",
       "      <td>11464</td>\n",
       "      <td>2023-10-03 22:13:07.781307</td>\n",
       "      <td>JBP</td>\n",
       "      <td>SRID</td>\n",
       "      <td>3A</td>\n",
       "      <td>54</td>\n",
       "      <td>33.0</td>\n",
       "    </tr>\n",
       "    <tr>\n",
       "      <th>3</th>\n",
       "      <td>125</td>\n",
       "      <td>20</td>\n",
       "      <td>0</td>\n",
       "      <td>0.0</td>\n",
       "      <td>0</td>\n",
       "      <td>0</td>\n",
       "      <td>0</td>\n",
       "      <td>145</td>\n",
       "      <td>[{'date': '2-12-2023', 'status': 'AVAILABLE-00...</td>\n",
       "      <td>11464</td>\n",
       "      <td>2023-10-03 22:13:07.781307</td>\n",
       "      <td>JBP</td>\n",
       "      <td>SRID</td>\n",
       "      <td>SL</td>\n",
       "      <td>54</td>\n",
       "      <td>33.0</td>\n",
       "    </tr>\n",
       "    <tr>\n",
       "      <th>4</th>\n",
       "      <td>1059</td>\n",
       "      <td>60</td>\n",
       "      <td>0</td>\n",
       "      <td>56.0</td>\n",
       "      <td>0</td>\n",
       "      <td>0</td>\n",
       "      <td>0</td>\n",
       "      <td>1175</td>\n",
       "      <td>[{'date': '2-12-2023', 'status': 'AVAILABLE-00...</td>\n",
       "      <td>11464</td>\n",
       "      <td>2023-10-03 22:13:07.781307</td>\n",
       "      <td>JBP</td>\n",
       "      <td>KKB</td>\n",
       "      <td>1A</td>\n",
       "      <td>69</td>\n",
       "      <td>49.0</td>\n",
       "    </tr>\n",
       "  </tbody>\n",
       "</table>\n",
       "</div>"
      ],
      "text/plain": [
       "   baseFare  reservationCharge  superfastCharge  serviceTax  otherCharge  \\\n",
       "0      1059                 60                0        56.0            0   \n",
       "1       626                 50                0        34.0            0   \n",
       "2       441                 40                0        24.0            0   \n",
       "3       125                 20                0         0.0            0   \n",
       "4      1059                 60                0        56.0            0   \n",
       "\n",
       "   cateringCharge  dynamicFare  totalFare  \\\n",
       "0               0            0       1175   \n",
       "1               0            0        710   \n",
       "2               0            0        505   \n",
       "3               0            0        145   \n",
       "4               0            0       1175   \n",
       "\n",
       "                                        availability  trainNumber  \\\n",
       "0  [{'date': '2-12-2023', 'status': 'AVAILABLE-00...        11464   \n",
       "1  [{'date': '2-12-2023', 'status': 'AVAILABLE-00...        11464   \n",
       "2  [{'date': '2-12-2023', 'status': 'AVAILABLE-01...        11464   \n",
       "3  [{'date': '2-12-2023', 'status': 'AVAILABLE-00...        11464   \n",
       "4  [{'date': '2-12-2023', 'status': 'AVAILABLE-00...        11464   \n",
       "\n",
       "                    timeStamp fromStnCode toStnCode classCode  distance  \\\n",
       "0  2023-10-03 22:13:07.781307         JBP      SRID        1A        54   \n",
       "1  2023-10-03 22:13:07.781307         JBP      SRID        2A        54   \n",
       "2  2023-10-03 22:13:07.781307         JBP      SRID        3A        54   \n",
       "3  2023-10-03 22:13:07.781307         JBP      SRID        SL        54   \n",
       "4  2023-10-03 22:13:07.781307         JBP       KKB        1A        69   \n",
       "\n",
       "   duration  \n",
       "0      33.0  \n",
       "1      33.0  \n",
       "2      33.0  \n",
       "3      33.0  \n",
       "4      49.0  "
      ]
     },
     "execution_count": 12,
     "metadata": {},
     "output_type": "execute_result"
    }
   ],
   "source": [
    "df2.head()"
   ]
  },
  {
   "cell_type": "code",
   "execution_count": 13,
   "id": "2de38dc9-f5a8-4467-bad9-8aa5c2b01682",
   "metadata": {},
   "outputs": [
    {
     "name": "stdout",
     "output_type": "stream",
     "text": [
      "baseFare : 1840\n",
      "reservationCharge : 5\n",
      "superfastCharge : 5\n",
      "serviceTax : 276\n",
      "otherCharge : 3\n",
      "cateringCharge : 69\n",
      "dynamicFare : 475\n",
      "totalFare : 976\n",
      "availability : 27639\n",
      "trainNumber : 533\n",
      "timeStamp : 579\n",
      "fromStnCode : 1480\n",
      "toStnCode : 1594\n",
      "classCode : 6\n",
      "distance : 2759\n",
      "duration : 2912\n"
     ]
    }
   ],
   "source": [
    "for columns in df2:\n",
    "    print(columns,\":\", df2[columns].nunique())"
   ]
  },
  {
   "cell_type": "code",
   "execution_count": 18,
   "id": "5774bd33-29d1-40c8-ba3d-4998cd00d5ed",
   "metadata": {},
   "outputs": [
    {
     "name": "stdout",
     "output_type": "stream",
     "text": [
      "[ 0 25 15]\n",
      "[60 50 40 20 15]\n",
      "[ 0 45 30 15 75]\n",
      "['1A' '2A' '3A' 'SL' '2S' 'CC']\n"
     ]
    }
   ],
   "source": [
    "print(df2['otherCharge'].unique())\n",
    "print(df2['reservationCharge'].unique())\n",
    "print(df2['superfastCharge'].unique())\n",
    "print(df2['classCode'].unique())"
   ]
  },
  {
   "cell_type": "code",
   "execution_count": 32,
   "id": "583f900a-66b3-4777-9ffe-0e7194366d49",
   "metadata": {},
   "outputs": [],
   "source": [
    "#reservation charge depends on the classcode\n",
    "df_res = df2.groupby(['classCode', 'reservationCharge'])['totalFare'].count()"
   ]
  },
  {
   "cell_type": "code",
   "execution_count": 33,
   "id": "b20f4e43-4c38-4f18-8b5a-12dfbe8649b2",
   "metadata": {},
   "outputs": [
    {
     "data": {
      "text/plain": [
       "classCode  reservationCharge\n",
       "1A         20                     388\n",
       "           60                   36763\n",
       "2A         50                   83630\n",
       "           60                     389\n",
       "2S         15                    9398\n",
       "Name: totalFare, dtype: int64"
      ]
     },
     "execution_count": 33,
     "metadata": {},
     "output_type": "execute_result"
    }
   ],
   "source": [
    "df_res.head()"
   ]
  },
  {
   "cell_type": "raw",
   "id": "e4998069-a252-4434-9d4b-71d3244ffd8b",
   "metadata": {},
   "source": [
    "df2.describe()"
   ]
  },
  {
   "cell_type": "code",
   "execution_count": 36,
   "id": "69f97de4-dbf7-4ffc-84ef-5c113cb167ce",
   "metadata": {},
   "outputs": [],
   "source": [
    " #Superfast charge only depends on (trainNumber, classCode) pair\n",
    "df_sup = df2.groupby(['trainNumber','classCode', 'superfastCharge'])['totalFare'].count()"
   ]
  },
  {
   "cell_type": "code",
   "execution_count": 37,
   "id": "f3c10ee2-2da1-4b75-9a08-599721c0fe2c",
   "metadata": {},
   "outputs": [
    {
     "data": {
      "text/plain": [
       "trainNumber  classCode  superfastCharge\n",
       "1027         2A         0                  100\n",
       "             3A         0                  100\n",
       "             SL         0                  100\n",
       "1065         2S         0                   75\n",
       "             CC         0                   75\n",
       "                                          ... \n",
       "22644        3A         45                 455\n",
       "             SL         30                 455\n",
       "22645        2A         45                 272\n",
       "             3A         45                 272\n",
       "             SL         30                 272\n",
       "Name: totalFare, Length: 1607, dtype: int64"
      ]
     },
     "execution_count": 37,
     "metadata": {},
     "output_type": "execute_result"
    }
   ],
   "source": [
    "df_sup"
   ]
  },
  {
   "cell_type": "code",
   "execution_count": 39,
   "id": "1b92bd02-0fd6-480b-bb1c-5c0fb627edce",
   "metadata": {},
   "outputs": [
    {
     "data": {
      "text/plain": [
       "Index(['baseFare', 'reservationCharge', 'superfastCharge', 'serviceTax',\n",
       "       'otherCharge', 'cateringCharge', 'dynamicFare', 'totalFare',\n",
       "       'availability', 'trainNumber', 'timeStamp', 'fromStnCode', 'toStnCode',\n",
       "       'classCode', 'distance', 'duration'],\n",
       "      dtype='object')"
      ]
     },
     "execution_count": 39,
     "metadata": {},
     "output_type": "execute_result"
    }
   ],
   "source": [
    "df2.columns"
   ]
  },
  {
   "cell_type": "code",
   "execution_count": 41,
   "id": "c8901495-1cf2-48b9-b13e-465afadf0086",
   "metadata": {},
   "outputs": [],
   "source": [
    "# Adding independent columns to indicate if the train has catering or dynamic charges. Though we are losing some\n",
    "# information but it is for model simplification\n",
    "df2['if_offering_catering'] = df.cateringCharge>0\n",
    "df2['if_dynamic_fare'] = df.dynamicFare>0"
   ]
  },
  {
   "cell_type": "code",
   "execution_count": 44,
   "id": "f99f23ea-2b49-49fb-a093-ade6898d86c5",
   "metadata": {},
   "outputs": [
    {
     "data": {
      "text/plain": [
       "Index(['baseFare', 'reservationCharge', 'superfastCharge', 'serviceTax',\n",
       "       'otherCharge', 'cateringCharge', 'dynamicFare', 'totalFare',\n",
       "       'availability', 'trainNumber', 'timeStamp', 'fromStnCode', 'toStnCode',\n",
       "       'classCode', 'distance', 'duration', 'if_offering_catering',\n",
       "       'if_dynamic_fare'],\n",
       "      dtype='object')"
      ]
     },
     "execution_count": 44,
     "metadata": {},
     "output_type": "execute_result"
    }
   ],
   "source": [
    "df2.columns\n"
   ]
  },
  {
   "cell_type": "code",
   "execution_count": null,
   "id": "54a3f4cc-b588-4fe6-895a-01d268bfcf23",
   "metadata": {},
   "outputs": [],
   "source": [
    "df_now = df[['classCode', 'if_offering_catering', 'if_dynamic_fare', 'distance', 'duration']]"
   ]
  }
 ],
 "metadata": {
  "kernelspec": {
   "display_name": "Python 3 (ipykernel)",
   "language": "python",
   "name": "python3"
  },
  "language_info": {
   "codemirror_mode": {
    "name": "ipython",
    "version": 3
   },
   "file_extension": ".py",
   "mimetype": "text/x-python",
   "name": "python",
   "nbconvert_exporter": "python",
   "pygments_lexer": "ipython3",
   "version": "3.11.5"
  }
 },
 "nbformat": 4,
 "nbformat_minor": 5
}
